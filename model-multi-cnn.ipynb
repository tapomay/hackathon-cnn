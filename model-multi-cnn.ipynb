{
 "cells": [
  {
   "cell_type": "code",
   "execution_count": 1,
   "metadata": {
    "collapsed": false
   },
   "outputs": [],
   "source": [
    "#  limitations under the License.\n",
    "from __future__ import absolute_import\n",
    "from __future__ import division\n",
    "from __future__ import print_function\n",
    "\n",
    "from sklearn import datasets, cross_validation, metrics\n",
    "import tensorflow as tf\n",
    "\n",
    "from tensorflow.contrib import learn\n",
    "from tensorflow.contrib.learn import monitors\n"
   ]
  },
  {
   "cell_type": "code",
   "execution_count": 2,
   "metadata": {
    "collapsed": true
   },
   "outputs": [],
   "source": [
    "%matplotlib inline\n",
    "import matplotlib.pyplot as plt\n",
    "from PIL import Image\n",
    "import numpy as np"
   ]
  },
  {
   "cell_type": "code",
   "execution_count": 3,
   "metadata": {
    "collapsed": true
   },
   "outputs": [],
   "source": [
    "num_steps = 10"
   ]
  },
  {
   "cell_type": "code",
   "execution_count": 4,
   "metadata": {
    "collapsed": true
   },
   "outputs": [],
   "source": [
    "import pickle"
   ]
  },
  {
   "cell_type": "code",
   "execution_count": 5,
   "metadata": {
    "collapsed": false
   },
   "outputs": [
    {
     "data": {
      "text/plain": [
       "'0.9.0'"
      ]
     },
     "execution_count": 5,
     "metadata": {},
     "output_type": "execute_result"
    }
   ],
   "source": [
    "import tensorflow as tf\n",
    "tf.__version__"
   ]
  },
  {
   "cell_type": "markdown",
   "metadata": {},
   "source": [
    "## Two Images Dataset"
   ]
  },
  {
   "cell_type": "code",
   "execution_count": 6,
   "metadata": {
    "collapsed": false
   },
   "outputs": [],
   "source": [
    "#benign_file = '/Users/chitrangtalaviya/Documents/Tensorflow/all-images/200X/benign_p/BENIGN0.p'\n",
    "#malignant_file = '/Users/chitrangtalaviya/Documents/Tensorflow/all-images/200X/malignant_p/MALIGNANT0.p'\n",
    "benign_file = 'small-data/BENIGN.pkl'\n",
    "malignant_file = 'small-data/MALIGNANT.pkl'\n",
    "\n",
    "benign_arr = pickle.load(open(benign_file, 'rb'))\n",
    "malignant_arr = pickle.load(open(malignant_file, 'rb'))"
   ]
  },
  {
   "cell_type": "code",
   "execution_count": 7,
   "metadata": {
    "collapsed": false
   },
   "outputs": [
    {
     "name": "stdout",
     "output_type": "stream",
     "text": [
      "(1009, 32, 32, 3)\n",
      "(1009, 32, 32, 3)\n"
     ]
    },
    {
     "data": {
      "text/plain": [
       "<matplotlib.image.AxesImage at 0x1123c34d0>"
      ]
     },
     "execution_count": 7,
     "metadata": {},
     "output_type": "execute_result"
    },
    {
     "data": {
      "image/png": "[encoded data removed]",
      "text/plain": [
       "<matplotlib.figure.Figure at 0x112b36dd0>"
      ]
     },
     "metadata": {},
     "output_type": "display_data"
    }
   ],
   "source": [
    "print(benign_arr.shape)\n",
    "plt.imshow(benign_arr[0])\n",
    "print(malignant_arr.shape)\n",
    "plt.imshow(malignant_arr[0])"
   ]
  },
  {
   "cell_type": "code",
   "execution_count": 8,
   "metadata": {
    "collapsed": false
   },
   "outputs": [
    {
     "data": {
      "text/plain": [
       "(2018, 32, 32, 3)"
      ]
     },
     "execution_count": 8,
     "metadata": {},
     "output_type": "execute_result"
    }
   ],
   "source": [
    "X = np.concatenate((benign_arr, malignant_arr), axis=0)\n",
    "X.shape"
   ]
  },
  {
   "cell_type": "code",
   "execution_count": 9,
   "metadata": {
    "collapsed": false
   },
   "outputs": [
    {
     "data": {
      "text/plain": [
       "(2018,)"
      ]
     },
     "execution_count": 9,
     "metadata": {},
     "output_type": "execute_result"
    }
   ],
   "source": [
    "y = np.concatenate((np.zeros(1009), np.ones(1009)))\n",
    "y.shape"
   ]
  },
  {
   "cell_type": "markdown",
   "metadata": {},
   "source": [
    "## Large Dataset"
   ]
  },
  {
   "cell_type": "code",
   "execution_count": null,
   "metadata": {
    "collapsed": true
   },
   "outputs": [],
   "source": [
    "# 623 benign\n",
    "for i in range(0, 90):\n",
    "    benign_file = '/home/ubuntu/BENIGN/BENIGN%s.p' % (i)\n",
    "    benign_arr = pickle.load(open(benign_file))\n",
    "    if X == None: X = benign_arr\n",
    "    else:\n",
    "        X = np.concatenate((X, benign_arr), axis = 0)\n",
    "\n",
    "    # append benign targets\n",
    "    if y == None: y = np.zeros(1009)\n",
    "    else: y = np.concatenate((y, np.zeros(1009)), axis = 0)\n",
    "\n",
    "# 1390 malignant\n",
    "for i in range(0, 210):\n",
    "    try:\n",
    "        malignant_file = '/home/ubuntu/malignant_p/MALIGNANT%s.p' % (i)\n",
    "        malignant_arr = pickle.load(open(malignant_file))\n",
    "        if X == None: X = malignant_arr\n",
    "        else:\n",
    "            X = np.concatenate((X, malignant_arr), axis = 0)\n",
    "\n",
    "        # append malignant targets\n",
    "        if y == None: y = np.zeros(1009)\n",
    "        else: y = np.concatenate((y, np.ones(1009)), axis = 0)\n",
    "    except Exception, e:\n",
    "        print(e)\n"
   ]
  },
  {
   "cell_type": "markdown",
   "metadata": {},
   "source": [
    "## Run"
   ]
  },
  {
   "cell_type": "code",
   "execution_count": 10,
   "metadata": {
    "collapsed": false
   },
   "outputs": [],
   "source": [
    "fraction_test = 0.35\n",
    "X_train, X_test, y_train, y_test = cross_validation.train_test_split(X, y,\n",
    "                                                                     test_size=fraction_test,\n",
    "                                                                     random_state=42)"
   ]
  },
  {
   "cell_type": "code",
   "execution_count": null,
   "metadata": {
    "collapsed": true
   },
   "outputs": [],
   "source": [
    "# Split X_train again to create validation data\n",
    "\n",
    "#X_train, X_val, y_train, y_val = cross_validation.train_test_split(X_train,\n",
    "#                                                                   y_train,\n",
    "#                                                                   test_size=fraction_test,\n",
    "#                                                                   random_state=42)"
   ]
  },
  {
   "cell_type": "markdown",
   "metadata": {},
   "source": [
    "## Model Definition (for Train and Predict)"
   ]
  },
  {
   "cell_type": "code",
   "execution_count": 11,
   "metadata": {
    "collapsed": false,
    "scrolled": true
   },
   "outputs": [
    {
     "name": "stdout",
     "output_type": "stream",
     "text": [
      "(707,)\n",
      "(707, 32, 32, 3)\n",
      "707\n"
     ]
    }
   ],
   "source": [
    "batch_size = X.shape[0]\n",
    "test_size = X_test.shape[0]\n",
    "\n",
    "def init_weights(shape):\n",
    "    return tf.Variable(tf.random_normal(shape, stddev=0.01))\n",
    "\n",
    "\n",
    "def model(X, w, w2, w3, w4, w_o, p_keep_conv, p_keep_hidden):\n",
    "    l1a = tf.nn.relu(tf.nn.conv2d(X, w,                       # l1a shape=(?, 28, 28, 32)\n",
    "                        strides=[1, 1, 1, 1], padding='SAME'))\n",
    "    l1 = tf.nn.max_pool(l1a, ksize=[1, 2, 2, 1],              # l1 shape=(?, 14, 14, 32)\n",
    "                        strides=[1, 2, 2, 1], padding='SAME')\n",
    "    l1 = tf.nn.dropout(l1, p_keep_conv)\n",
    "\n",
    "    l2a = tf.nn.relu(tf.nn.conv2d(l1, w2,                     # l2a shape=(?, 14, 14, 64)\n",
    "                        strides=[1, 1, 1, 1], padding='SAME'))\n",
    "    l2 = tf.nn.max_pool(l2a, ksize=[1, 2, 2, 1],              # l2 shape=(?, 7, 7, 64)\n",
    "                        strides=[1, 2, 2, 1], padding='SAME')\n",
    "    l2 = tf.nn.dropout(l2, p_keep_conv)\n",
    "\n",
    "    l3a = tf.nn.relu(tf.nn.conv2d(l2, w3,                     # l3a shape=(?, 7, 7, 128)\n",
    "                        strides=[1, 1, 1, 1], padding='SAME'))\n",
    "    l3 = tf.nn.max_pool(l3a, ksize=[1, 2, 2, 1],              # l3 shape=(?, 4, 4, 128)\n",
    "                        strides=[1, 2, 2, 1], padding='SAME')\n",
    "    l3 = tf.reshape(l3, [-1, w4.get_shape().as_list()[0]])    # reshape to (?, 2048)\n",
    "    l3 = tf.nn.dropout(l3, p_keep_conv)\n",
    "\n",
    "    l4 = tf.nn.relu(tf.matmul(l3, w4))\n",
    "    l4 = tf.nn.dropout(l4, p_keep_hidden)\n",
    "\n",
    "    pyx = tf.matmul(l4, w_o)\n",
    "    return pyx\n",
    "\n",
    "trX, trY, teX, teY = X_train, y_train, X_test, y_test\n",
    "\n",
    "print (teY.shape)\n",
    "print (teX.shape)\n",
    "print (len(teX))\n",
    "\n",
    "\n",
    "X = tf.placeholder(\"float\", [None, 32, 32, 3])\n",
    "Y = tf.placeholder(\"float\", [None, 2])\n",
    "Y1 = tf.placeholder(\"float\", [test_size,])\n",
    "w = init_weights([3, 3, 3, 32])       # 3x3x1 conv, 32 outputs\n",
    "w2 = init_weights([3, 3, 32, 64])     # 3x3x32 conv, 64 outputs\n",
    "w3 = init_weights([3, 3, 64, 128])    # 3x3x32 conv, 128 outputs\n",
    "w4 = init_weights([128 * 4 * 4, 625]) # FC 128 * 4 * 4 inputs, 625 outputs\n",
    "w_o = init_weights([625, 2])         # FC 625 inputs, 10 outputs (labels)\n",
    "\n",
    "p_keep_conv = tf.placeholder(\"float\")\n",
    "p_keep_hidden = tf.placeholder(\"float\")\n",
    "py_x = model(X, w, w2, w3, w4, w_o, p_keep_conv, p_keep_hidden)\n",
    "\n",
    "cost = tf.reduce_mean(tf.nn.softmax_cross_entropy_with_logits(py_x, Y))\n",
    "train_op = tf.train.RMSPropOptimizer(0.001, 0.9).minimize(cost)\n",
    "predict_op = tf.argmax(py_x, 1)\n",
    "\n",
    "# saver object\n",
    "saver = tf.train.Saver()\n"
   ]
  },
  {
   "cell_type": "markdown",
   "metadata": {},
   "source": [
    "## Train"
   ]
  },
  {
   "cell_type": "code",
   "execution_count": 12,
   "metadata": {
    "collapsed": false
   },
   "outputs": [
    {
     "name": "stdout",
     "output_type": "stream",
     "text": [
      "0 0.0\n",
      "Model saved in file: /tmp/model.ckpt\n",
      "1 0.0\n",
      "Model saved in file: /tmp/model.ckpt\n",
      "2 0.983026874116\n",
      "Model saved in file: /tmp/model.ckpt\n",
      "3 0.983026874116\n",
      "Model saved in file: /tmp/model.ckpt\n",
      "4 0.983026874116\n",
      "Model saved in file: /tmp/model.ckpt\n",
      "5 0.016973125884\n",
      "Model saved in file: /tmp/model.ckpt\n",
      "6 0.0\n",
      "Model saved in file: /tmp/model.ckpt\n",
      "7 0.016973125884\n",
      "Model saved in file: /tmp/model.ckpt\n",
      "8 0.983026874116\n",
      "Model saved in file: /tmp/model.ckpt\n",
      "9 0.983026874116\n",
      "Model saved in file: /tmp/model.ckpt\n",
      "10 0.983026874116\n",
      "Model saved in file: /tmp/model.ckpt\n",
      "11 0.983026874116\n",
      "Model saved in file: /tmp/model.ckpt\n",
      "12 0.016973125884\n",
      "Model saved in file: /tmp/model.ckpt\n",
      "13 0.983026874116\n",
      "Model saved in file: /tmp/model.ckpt\n",
      "14 0.0\n",
      "Model saved in file: /tmp/model.ckpt\n",
      "15 0.983026874116\n",
      "Model saved in file: /tmp/model.ckpt\n",
      "16 0.016973125884\n",
      "Model saved in file: /tmp/model.ckpt\n",
      "17 0.016973125884\n",
      "Model saved in file: /tmp/model.ckpt\n",
      "18 0.016973125884\n",
      "Model saved in file: /tmp/model.ckpt\n",
      "19 0.0\n",
      "Model saved in file: /tmp/model.ckpt\n",
      "20 0.016973125884\n",
      "Model saved in file: /tmp/model.ckpt\n",
      "21 0.016973125884\n",
      "Model saved in file: /tmp/model.ckpt\n",
      "22 0.016973125884\n",
      "Model saved in file: /tmp/model.ckpt\n",
      "23 0.983026874116\n",
      "Model saved in file: /tmp/model.ckpt\n",
      "24 0.016973125884\n",
      "Model saved in file: /tmp/model.ckpt\n",
      "25 0.983026874116\n",
      "Model saved in file: /tmp/model.ckpt\n",
      "26 0.983026874116\n",
      "Model saved in file: /tmp/model.ckpt\n",
      "27 0.0\n",
      "Model saved in file: /tmp/model.ckpt\n",
      "28 0.983026874116\n",
      "Model saved in file: /tmp/model.ckpt\n",
      "29 0.016973125884\n",
      "Model saved in file: /tmp/model.ckpt\n",
      "30 0.983026874116\n",
      "Model saved in file: /tmp/model.ckpt\n",
      "31 0.016973125884\n",
      "Model saved in file: /tmp/model.ckpt\n",
      "32 0.0\n",
      "Model saved in file: /tmp/model.ckpt\n",
      "33 0.0\n",
      "Model saved in file: /tmp/model.ckpt\n",
      "34 0.0\n",
      "Model saved in file: /tmp/model.ckpt\n",
      "35 0.0\n",
      "Model saved in file: /tmp/model.ckpt\n",
      "36 0.0\n",
      "Model saved in file: /tmp/model.ckpt\n",
      "37 0.983026874116\n",
      "Model saved in file: /tmp/model.ckpt\n",
      "38 0.016973125884\n",
      "Model saved in file: /tmp/model.ckpt\n",
      "39 0.983026874116\n",
      "Model saved in file: /tmp/model.ckpt\n",
      "40 0.016973125884\n",
      "Model saved in file: /tmp/model.ckpt\n",
      "41 0.016973125884\n",
      "Model saved in file: /tmp/model.ckpt\n",
      "42 0.0\n",
      "Model saved in file: /tmp/model.ckpt\n",
      "43 0.0\n",
      "Model saved in file: /tmp/model.ckpt\n",
      "44 0.983026874116\n",
      "Model saved in file: /tmp/model.ckpt\n",
      "45 0.0\n",
      "Model saved in file: /tmp/model.ckpt\n",
      "46 0.983026874116\n",
      "Model saved in file: /tmp/model.ckpt\n",
      "47 0.0\n",
      "Model saved in file: /tmp/model.ckpt\n",
      "48 0.016973125884\n",
      "Model saved in file: /tmp/model.ckpt\n",
      "49 0.016973125884\n",
      "Model saved in file: /tmp/model.ckpt\n",
      "50 0.0\n",
      "Model saved in file: /tmp/model.ckpt\n",
      "51 0.983026874116\n",
      "Model saved in file: /tmp/model.ckpt\n",
      "52 0.0\n",
      "Model saved in file: /tmp/model.ckpt\n",
      "53 0.016973125884\n",
      "Model saved in file: /tmp/model.ckpt\n",
      "54 0.983026874116\n",
      "Model saved in file: /tmp/model.ckpt\n",
      "55 0.983026874116\n",
      "Model saved in file: /tmp/model.ckpt\n",
      "56 0.983026874116\n",
      "Model saved in file: /tmp/model.ckpt\n",
      "57 0.983026874116\n",
      "Model saved in file: /tmp/model.ckpt\n",
      "58 0.0\n",
      "Model saved in file: /tmp/model.ckpt\n",
      "59 0.0\n",
      "Model saved in file: /tmp/model.ckpt\n",
      "60 0.0\n",
      "Model saved in file: /tmp/model.ckpt\n",
      "61 0.983026874116\n",
      "Model saved in file: /tmp/model.ckpt\n",
      "62 0.983026874116\n",
      "Model saved in file: /tmp/model.ckpt\n",
      "63 0.983026874116\n",
      "Model saved in file: /tmp/model.ckpt\n",
      "64 0.983026874116\n",
      "Model saved in file: /tmp/model.ckpt\n",
      "65 0.0\n",
      "Model saved in file: /tmp/model.ckpt\n",
      "66 0.983026874116\n",
      "Model saved in file: /tmp/model.ckpt\n",
      "67 0.0\n",
      "Model saved in file: /tmp/model.ckpt\n",
      "68 0.983026874116\n",
      "Model saved in file: /tmp/model.ckpt\n",
      "69 0.0\n",
      "Model saved in file: /tmp/model.ckpt\n",
      "70 0.983026874116\n",
      "Model saved in file: /tmp/model.ckpt\n",
      "71 0.983026874116\n",
      "Model saved in file: /tmp/model.ckpt\n",
      "72 0.983026874116\n",
      "Model saved in file: /tmp/model.ckpt\n",
      "73 0.0\n",
      "Model saved in file: /tmp/model.ckpt\n",
      "74 0.016973125884\n",
      "Model saved in file: /tmp/model.ckpt\n",
      "75 0.0\n",
      "Model saved in file: /tmp/model.ckpt\n",
      "76 0.0\n",
      "Model saved in file: /tmp/model.ckpt\n",
      "77 0.983026874116\n",
      "Model saved in file: /tmp/model.ckpt\n",
      "78 0.0\n",
      "Model saved in file: /tmp/model.ckpt\n",
      "79 0.983026874116\n",
      "Model saved in file: /tmp/model.ckpt\n",
      "80 0.0\n",
      "Model saved in file: /tmp/model.ckpt\n",
      "81 0.983026874116\n",
      "Model saved in file: /tmp/model.ckpt\n",
      "82 0.983026874116\n",
      "Model saved in file: /tmp/model.ckpt\n",
      "83 0.016973125884\n",
      "Model saved in file: /tmp/model.ckpt\n",
      "84 0.0\n",
      "Model saved in file: /tmp/model.ckpt\n",
      "85 0.0\n",
      "Model saved in file: /tmp/model.ckpt\n",
      "86 0.016973125884\n",
      "Model saved in file: /tmp/model.ckpt\n",
      "87 0.016973125884\n",
      "Model saved in file: /tmp/model.ckpt\n",
      "88 0.0\n",
      "Model saved in file: /tmp/model.ckpt\n",
      "89 0.983026874116\n",
      "Model saved in file: /tmp/model.ckpt\n",
      "90 0.983026874116\n",
      "Model saved in file: /tmp/model.ckpt\n",
      "91 0.0\n",
      "Model saved in file: /tmp/model.ckpt\n",
      "92 0.016973125884\n",
      "Model saved in file: /tmp/model.ckpt\n",
      "93 0.983026874116\n",
      "Model saved in file: /tmp/model.ckpt\n",
      "94 0.983026874116\n",
      "Model saved in file: /tmp/model.ckpt\n",
      "95 0.983026874116\n",
      "Model saved in file: /tmp/model.ckpt\n",
      "96 0.983026874116\n",
      "Model saved in file: /tmp/model.ckpt\n",
      "97 0.983026874116\n",
      "Model saved in file: /tmp/model.ckpt\n",
      "98 0.983026874116\n",
      "Model saved in file: /tmp/model.ckpt\n",
      "99 0.983026874116\n",
      "Model saved in file: /tmp/model.ckpt\n"
     ]
    }
   ],
   "source": [
    "# Launch the graph in a session\n",
    "with tf.Session() as sess:\n",
    "    # you need to initialize all variables\n",
    "    tf.initialize_all_variables().run()\n",
    "    \n",
    "    for i in range(100):\n",
    "        training_batch = zip(range(0, len(trX), batch_size),\n",
    "                             range(batch_size, len(trX), batch_size))\n",
    "        for start, end in training_batch:\n",
    "            sess.run(train_op, feed_dict={X: trX[start:end], Y: trY[start:end],p_keep_conv: 0.8, p_keep_hidden: 0.5})\n",
    "\n",
    "        test_indices = np.arange(len(teX)) # Get A Test Batch\n",
    "        np.random.shuffle(test_indices)\n",
    "        test_indices = test_indices[0:test_size]\n",
    "        test_indices_yy = np.zeros(shape = (test_size, 2))\n",
    "        #print (teX.shape)\n",
    "        #print (test_indices.shape)\n",
    "        test_indices_y = np.reshape(test_indices_yy , (2 , test_size))\n",
    "    \n",
    "        print(i, np.mean(np.argmax(teY[test_indices]) ==\n",
    "                         sess.run(predict_op, feed_dict={X: teX[test_indices],\n",
    "                                                         Y1: teY[test_indices],\n",
    "                                                         p_keep_conv: 1.0,\n",
    "                                                         p_keep_hidden: 1.0})))\n",
    "        \n",
    "        save_path = saver.save(sess, \"/tmp/model.ckpt\")\n",
    "        print(\"Model saved in file: %s\" % save_path)"
   ]
  },
  {
   "cell_type": "markdown",
   "metadata": {},
   "source": [
    "## RESTORE"
   ]
  },
  {
   "cell_type": "code",
   "execution_count": 13,
   "metadata": {
    "collapsed": false
   },
   "outputs": [
    {
     "name": "stdout",
     "output_type": "stream",
     "text": [
      "Model restored.\n",
      "[0 0 0 ..., 1 0 0]\n"
     ]
    }
   ],
   "source": [
    "X_to_predict = benign_arr\n",
    "#X_to_predict = malignant_arr\n",
    "\n",
    "with tf.Session() as sess:\n",
    "    # Restore variables from disk.\n",
    "    saver.restore(sess, \"/tmp/model.ckpt\")\n",
    "    print(\"Model restored.\")\n",
    "    \n",
    "    print(sess.run(predict_op, feed_dict={X: X_to_predict,\n",
    "                                                     p_keep_conv: 1.0,\n",
    "                                                     p_keep_hidden: 1.0}) )"
   ]
  },
  {
   "cell_type": "code",
   "execution_count": 14,
   "metadata": {
    "collapsed": false
   },
   "outputs": [
    {
     "name": "stdout",
     "output_type": "stream",
     "text": [
      "Model restored.\n",
      "[0 0 0 ..., 0 0 0]\n"
     ]
    }
   ],
   "source": [
    "#X_to_predict = benign_arr\n",
    "X_to_predict = malignant_arr\n",
    "\n",
    "with tf.Session() as sess:\n",
    "    # Restore variables from disk.\n",
    "    saver.restore(sess, \"/tmp/model.ckpt\")\n",
    "    print(\"Model restored.\")\n",
    "    \n",
    "    print(sess.run(predict_op, feed_dict={X: X_to_predict,\n",
    "                                                     p_keep_conv: 1.0,\n",
    "                                                     p_keep_hidden: 1.0}) )"
   ]
  },
  {
   "cell_type": "code",
   "execution_count": null,
   "metadata": {
    "collapsed": true
   },
   "outputs": [],
   "source": []
  }
 ],
 "metadata": {
  "kernelspec": {
   "display_name": "Python 2",
   "language": "python",
   "name": "python2"
  },
  "language_info": {
   "codemirror_mode": {
    "name": "ipython",
    "version": 2
   },
   "file_extension": ".py",
   "mimetype": "text/x-python",
   "name": "python",
   "nbconvert_exporter": "python",
   "pygments_lexer": "ipython2",
   "version": "2.7.11"
  }
 },
 "nbformat": 4,
 "nbformat_minor": 0
}
